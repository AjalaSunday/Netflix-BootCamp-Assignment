{
 "cells": [
  {
   "cell_type": "code",
   "execution_count": 16,
   "metadata": {},
   "outputs": [],
   "source": [
    "# Import the 'os' and 'csv' libraries\n",
    "import os\n",
    "import csv\n"
   ]
  },
  {
   "cell_type": "code",
   "execution_count": 17,
   "metadata": {},
   "outputs": [],
   "source": [
    "# Set path for importing our CSV file\n",
    "file_path = os.path.join('../','Resources','yahoo_stock.csv')"
   ]
  },
  {
   "cell_type": "code",
   "execution_count": 18,
   "metadata": {},
   "outputs": [
    {
     "name": "stdout",
     "output_type": "stream",
     "text": [
      "The day with greatness daily percent change was 3/13/2020 on that day the stock changed 5.49%.\n",
      "The high of that day was 2711.330078, the low of that day was 2492.370117.\n",
      "The volume for that day was 8258670000.\n"
     ]
    }
   ],
   "source": [
    "# Open a connection to the comma-delimited csv file \n",
    "with open(file_path, 'r') as file_path:\n",
    "    # Read in the CSV file using csv.DictReader() class\n",
    "    input_file = csv.DictReader(file_path, delimiter=',')\n",
    "    # Create a variable to save our print row and greatest daily percent change\n",
    "    row_variable = {}\n",
    "    maximum = 0\n",
    "    # Iterate through each row\n",
    "    for row in input_file:\n",
    "        # For each row, calculate the daily percent change\n",
    "        percent_change = round(((float(row['Close']) - float(row['Open'])) / float(row['Open']))*100,2)\n",
    "        \n",
    "        # Check if the absolute daily percent change is greater than the previous max\n",
    "        if abs(percent_change) > maximum:\n",
    "            # If true, store new greatest daily percent change and print row\n",
    "            maximum = percent_change\n",
    "            row_variable = row\n",
    "\n",
    "    # Print out the date, stock high, stock low, volume and percent change for the day with the greatest percent change\n",
    "    print(f\"The day with greatness daily percent change was {row_variable['Date']} on that day the stock changed { maximum}%.\")\n",
    "    print(f\"The high of that day was {row_variable['High']}, the low of that day was {row_variable['Low']}.\")\n",
    "    print(f\"The volume for that day was {row_variable['Volume']}.\")"
   ]
  },
  {
   "cell_type": "code",
   "execution_count": null,
   "metadata": {},
   "outputs": [],
   "source": []
  },
  {
   "cell_type": "code",
   "execution_count": null,
   "metadata": {},
   "outputs": [],
   "source": []
  }
 ],
 "metadata": {
  "kernelspec": {
   "display_name": "Python 3",
   "language": "python",
   "name": "python3"
  },
  "language_info": {
   "codemirror_mode": {
    "name": "ipython",
    "version": 3
   },
   "file_extension": ".py",
   "mimetype": "text/x-python",
   "name": "python",
   "nbconvert_exporter": "python",
   "pygments_lexer": "ipython3",
   "version": "3.8.8"
  }
 },
 "nbformat": 4,
 "nbformat_minor": 4
}
